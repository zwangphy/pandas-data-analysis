{
 "cells": [
  {
   "cell_type": "code",
   "execution_count": 1,
   "id": "8b40687e",
   "metadata": {},
   "outputs": [],
   "source": [
    "import pandas as pd\n",
    "import numpy as np\n",
    "import random as rd"
   ]
  },
  {
   "cell_type": "markdown",
   "id": "6ac20d0f",
   "metadata": {},
   "source": [
    "\n",
    "## Part I: one variable\n",
    "\n",
    "We have a function $x(t)$, that satisfies a stochastic differential equation\n",
    "\n",
    "$$ \\dot{x} = f(x) + \\epsilon, $$\n",
    "\n",
    "where $\\epsilon$ is a normal distributed noise (with no correlation at different t).\n",
    "\n",
    "Here we simulate $x(t)$ using Euler's forward method. Namely, at every t, we compute $\\dot{x}(t)$ by $x(t)+\\epsilon$, and then move forward in time by \n",
    "$$ x(t + \\Delta t) \\approx x(t) + \\dot{x}(t) \\cdot \\Delta t.$$"
   ]
  },
  {
   "cell_type": "code",
   "execution_count": 2,
   "id": "39f60016",
   "metadata": {},
   "outputs": [],
   "source": [
    "## define a function to return the noise\n",
    "\n",
    "def noise(sigma):\n",
    "    return rd.gauss(0, sigma)"
   ]
  },
  {
   "cell_type": "code",
   "execution_count": 3,
   "id": "ce3a978c",
   "metadata": {},
   "outputs": [],
   "source": [
    "## define f(x) on the RHS of the differential equation. Let's begin with f(x) = x\n",
    "\n",
    "def f(x):\n",
    "    return x"
   ]
  },
  {
   "cell_type": "code",
   "execution_count": 4,
   "id": "f438fbaa",
   "metadata": {},
   "outputs": [],
   "source": [
    "## the main program to simulate x(t)\n",
    "## initial conditions: t0 = 0, x(t0) = x0\n",
    "\n",
    "def solver(x0, dt, end_time, sigma):\n",
    "    \n",
    "    step_number = int(end_time/dt)\n",
    "    \n",
    "    x_array = np.zeros(step_number+1)\n",
    "    xdot_array = np.zeros(step_number+1)\n",
    "    t_array = np.zeros(step_number+1)\n",
    "    \n",
    "    # initialization    \n",
    "    x_array[0], xdot_array[0], t_array[0] = x0, f(x0) + noise(sigma), 0\n",
    "    \n",
    "    # solver\n",
    "    for i in range(1,step_number+1):\n",
    "        t_array[i] = t_array[i-1] + dt\n",
    "        x_array[i] = x_array[i-1] + xdot_array[i-1]*dt\n",
    "        xdot_array[i] = f(x_array[i]) + noise(sigma)\n",
    "    \n",
    "    # create a data frame\n",
    "    df = pd.DataFrame(columns=['t','x'])\n",
    "    df['t'], df['x'] = t_array, x_array\n",
    "    \n",
    "    return df"
   ]
  },
  {
   "cell_type": "code",
   "execution_count": 9,
   "id": "2f2779c4",
   "metadata": {},
   "outputs": [
    {
     "data": {
      "text/html": [
       "<div>\n",
       "<style scoped>\n",
       "    .dataframe tbody tr th:only-of-type {\n",
       "        vertical-align: middle;\n",
       "    }\n",
       "\n",
       "    .dataframe tbody tr th {\n",
       "        vertical-align: top;\n",
       "    }\n",
       "\n",
       "    .dataframe thead th {\n",
       "        text-align: right;\n",
       "    }\n",
       "</style>\n",
       "<table border=\"1\" class=\"dataframe\">\n",
       "  <thead>\n",
       "    <tr style=\"text-align: right;\">\n",
       "      <th></th>\n",
       "      <th>t</th>\n",
       "      <th>x</th>\n",
       "    </tr>\n",
       "  </thead>\n",
       "  <tbody>\n",
       "    <tr>\n",
       "      <th>0</th>\n",
       "      <td>0.00</td>\n",
       "      <td>0.000000</td>\n",
       "    </tr>\n",
       "    <tr>\n",
       "      <th>1</th>\n",
       "      <td>0.01</td>\n",
       "      <td>0.006438</td>\n",
       "    </tr>\n",
       "    <tr>\n",
       "      <th>2</th>\n",
       "      <td>0.02</td>\n",
       "      <td>-0.000635</td>\n",
       "    </tr>\n",
       "    <tr>\n",
       "      <th>3</th>\n",
       "      <td>0.03</td>\n",
       "      <td>-0.011939</td>\n",
       "    </tr>\n",
       "    <tr>\n",
       "      <th>4</th>\n",
       "      <td>0.04</td>\n",
       "      <td>-0.020045</td>\n",
       "    </tr>\n",
       "    <tr>\n",
       "      <th>...</th>\n",
       "      <td>...</td>\n",
       "      <td>...</td>\n",
       "    </tr>\n",
       "    <tr>\n",
       "      <th>296</th>\n",
       "      <td>2.96</td>\n",
       "      <td>0.442223</td>\n",
       "    </tr>\n",
       "    <tr>\n",
       "      <th>297</th>\n",
       "      <td>2.97</td>\n",
       "      <td>0.448157</td>\n",
       "    </tr>\n",
       "    <tr>\n",
       "      <th>298</th>\n",
       "      <td>2.98</td>\n",
       "      <td>0.456654</td>\n",
       "    </tr>\n",
       "    <tr>\n",
       "      <th>299</th>\n",
       "      <td>2.99</td>\n",
       "      <td>0.457109</td>\n",
       "    </tr>\n",
       "    <tr>\n",
       "      <th>300</th>\n",
       "      <td>3.00</td>\n",
       "      <td>0.457765</td>\n",
       "    </tr>\n",
       "  </tbody>\n",
       "</table>\n",
       "<p>301 rows × 2 columns</p>\n",
       "</div>"
      ],
      "text/plain": [
       "        t         x\n",
       "0    0.00  0.000000\n",
       "1    0.01  0.006438\n",
       "2    0.02 -0.000635\n",
       "3    0.03 -0.011939\n",
       "4    0.04 -0.020045\n",
       "..    ...       ...\n",
       "296  2.96  0.442223\n",
       "297  2.97  0.448157\n",
       "298  2.98  0.456654\n",
       "299  2.99  0.457109\n",
       "300  3.00  0.457765\n",
       "\n",
       "[301 rows x 2 columns]"
      ]
     },
     "execution_count": 9,
     "metadata": {},
     "output_type": "execute_result"
    }
   ],
   "source": [
    "# set x0 = 0, dt = 0.01, end_time = 3, sigma = 1\n",
    "\n",
    "df = solver(0, 0.01, 3, 1)\n",
    "df"
   ]
  },
  {
   "cell_type": "code",
   "execution_count": 10,
   "id": "fc8f3c2d",
   "metadata": {},
   "outputs": [
    {
     "data": {
      "text/plain": [
       "<AxesSubplot:xlabel='t'>"
      ]
     },
     "execution_count": 10,
     "metadata": {},
     "output_type": "execute_result"
    },
    {
     "data": {
      "image/png": "[encoded data removed]",
      "text/plain": [
       "<Figure size 432x288 with 1 Axes>"
      ]
     },
     "metadata": {
      "needs_background": "light"
     },
     "output_type": "display_data"
    }
   ],
   "source": [
    "df.plot(x='t',y='x')"
   ]
  },
  {
   "cell_type": "markdown",
   "id": "2d98f75d",
   "metadata": {},
   "source": [
    " Exercise problem: repeat this simulation 3 times; in the end you should get 3 different x(t). Plot them on the same graph."
   ]
  },
  {
   "cell_type": "markdown",
   "id": "fb2463ad",
   "metadata": {},
   "source": [
    "## Part II: multiple variables\n",
    "\n",
    "Now suppose there are $N$ functions, $x_1(t),...,x_N(t)$, and they satisfy the following coupled equations\n",
    "\n",
    "\n",
    "$$\\dot{x}_1(t) = f_1(x_1,...,x_N) + \\epsilon_1, $$\n",
    "$$.$$\n",
    "$$.$$\n",
    "$$.$$\n",
    "$$\\dot{x}_N(t) = f_N(x_1,...,x_N) + \\epsilon_N $$"
   ]
  },
  {
   "cell_type": "code",
   "execution_count": null,
   "id": "b29bf016",
   "metadata": {},
   "outputs": [],
   "source": []
  }
 ],
 "metadata": {
  "kernelspec": {
   "display_name": "Python 3",
   "language": "python",
   "name": "python3"
  },
  "language_info": {
   "codemirror_mode": {
    "name": "ipython",
    "version": 3
   },
   "file_extension": ".py",
   "mimetype": "text/x-python",
   "name": "python",
   "nbconvert_exporter": "python",
   "pygments_lexer": "ipython3",
   "version": "3.8.8"
  }
 },
 "nbformat": 4,
 "nbformat_minor": 5
}
